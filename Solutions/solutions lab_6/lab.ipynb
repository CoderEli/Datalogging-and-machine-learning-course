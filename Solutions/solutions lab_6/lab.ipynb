{
 "cells": [
  {
   "cell_type": "markdown",
   "metadata": {},
   "source": [
    "# Lab 6\n",
    "Working with datasets and regression models.\n",
    "\n",
    "Regression models are essentialy finding ways in which data correlates, and attempts to fit a metric. In this lab we will be fitting regression models to data, looking at a few different types of regression, then using this on our datasets we gathered.\n",
    "We will be using a data of plant growth data. \n"
   ]
  },
  {
   "cell_type": "code",
   "execution_count": null,
   "metadata": {},
   "outputs": [],
   "source": [
    "!pip install scikit-learn \n",
    "!pip install pandas\n",
    "!pip install matplotlib"
   ]
  },
  {
   "cell_type": "code",
   "execution_count": 10,
   "metadata": {},
   "outputs": [],
   "source": [
    "import pandas as pd\n",
    "from sklearn.model_selection import train_test_split\n",
    "from sklearn.linear_model import LinearRegression, GammaRegressor, Ridge\n",
    "from sklearn.ensemble import RandomForestRegressor\n",
    "from sklearn.metrics import mean_squared_error, r2_score\n",
    "import matplotlib.pyplot as plt\n",
    "import numpy as np"
   ]
  },
  {
   "cell_type": "markdown",
   "metadata": {},
   "source": [
    "## Task 1 - Linear regression\n",
    "### Load in the data\n",
    "Lets plot the data to see what we are working with. If we load in the dataset we can see what the columns of the data is, so what you need to do is plot this data against one another."
   ]
  },
  {
   "cell_type": "code",
   "execution_count": 15,
   "metadata": {},
   "outputs": [
    {
     "data": {
      "text/html": [
       "<div>\n",
       "<style scoped>\n",
       "    .dataframe tbody tr th:only-of-type {\n",
       "        vertical-align: middle;\n",
       "    }\n",
       "\n",
       "    .dataframe tbody tr th {\n",
       "        vertical-align: top;\n",
       "    }\n",
       "\n",
       "    .dataframe thead th {\n",
       "        text-align: right;\n",
       "    }\n",
       "</style>\n",
       "<table border=\"1\" class=\"dataframe\">\n",
       "  <thead>\n",
       "    <tr style=\"text-align: right;\">\n",
       "      <th></th>\n",
       "      <th>Water (ml/day)</th>\n",
       "      <th>Plant Growth (cm)</th>\n",
       "    </tr>\n",
       "  </thead>\n",
       "  <tbody>\n",
       "    <tr>\n",
       "      <th>0</th>\n",
       "      <td>50.000000</td>\n",
       "      <td>4.116310</td>\n",
       "    </tr>\n",
       "    <tr>\n",
       "      <th>1</th>\n",
       "      <td>59.183673</td>\n",
       "      <td>7.853251</td>\n",
       "    </tr>\n",
       "    <tr>\n",
       "      <th>2</th>\n",
       "      <td>68.367347</td>\n",
       "      <td>5.827844</td>\n",
       "    </tr>\n",
       "    <tr>\n",
       "      <th>3</th>\n",
       "      <td>77.551020</td>\n",
       "      <td>9.442442</td>\n",
       "    </tr>\n",
       "    <tr>\n",
       "      <th>4</th>\n",
       "      <td>86.734694</td>\n",
       "      <td>10.530373</td>\n",
       "    </tr>\n",
       "  </tbody>\n",
       "</table>\n",
       "</div>"
      ],
      "text/plain": [
       "   Water (ml/day)  Plant Growth (cm)\n",
       "0       50.000000           4.116310\n",
       "1       59.183673           7.853251\n",
       "2       68.367347           5.827844\n",
       "3       77.551020           9.442442\n",
       "4       86.734694          10.530373"
      ]
     },
     "execution_count": 15,
     "metadata": {},
     "output_type": "execute_result"
    }
   ],
   "source": [
    "df=pd.read_csv(\"plant_growth_data.csv\")\n",
    "df = df.dropna()  # Remove rows with missing values\n",
    "df.head()"
   ]
  },
  {
   "cell_type": "code",
   "execution_count": 25,
   "metadata": {},
   "outputs": [
    {
     "data": {
      "image/png": "[encoded data removed]",
      "text/plain": [
       "<Figure size 640x480 with 1 Axes>"
      ]
     },
     "metadata": {},
     "output_type": "display_data"
    }
   ],
   "source": [
    "#load in the columns to variables\n",
    "water=df['Water (ml/day)'].values\n",
    "growth = df['Plant Growth (cm)'].values #complete this! \n",
    "\n",
    "plt.scatter(water, growth) #complete this to plot the water against the growth\n",
    "plt.xlabel(\"Water (ml/day)\")\n",
    "plt.ylabel(\"Growth (cm)\")\n",
    "plt.title(\"Water vs Growth\")\n",
    "plt.show()"
   ]
  },
  {
   "cell_type": "markdown",
   "metadata": {},
   "source": [
    "### Train a regression model\n",
    "\n",
    "Lets train a regression model on this data. When we train a model we can import it from the scikit learn libray. When we train a model, we want to split the data into train and test datasets. The train dataset is the data that is used to train the model. We then have a test dataset of unseen data, we use this to see how the model performs on data it has not been trained on. This gives us an idea of how it will perform in the future. \n",
    "\n",
    "We then use the mean squared error as a metric to see how far off (on average) our model is. The lower this nuber, the better. "
   ]
  },
  {
   "cell_type": "code",
   "execution_count": 26,
   "metadata": {},
   "outputs": [
    {
     "name": "stdout",
     "output_type": "stream",
     "text": [
      "Mean Squared Error: 4.458145339660442\n",
      "Mean Squared Error: 4.124758215857459\n"
     ]
    }
   ],
   "source": [
    "X = df['Water (ml/day)'].values.reshape(-1,1) #this should be your data (so water)\n",
    "y = df['Plant Growth (cm)'].values  #this should be your labels (growth)\n",
    "X_train, X_test, y_train, y_test = train_test_split(X, y, test_size=0.2, random_state=42) #this splits\n",
    "\n",
    "#train the model\n",
    "model = LinearRegression()\n",
    "model.fit(X_train, y_train)\n",
    "\n",
    "#work out how good the model is on the train data\n",
    "y_pred = model.predict(X_train)\n",
    "mse = mean_squared_error(y_train, y_pred)\n",
    "print(\"Mean Squared Error:\", mse)\n",
    "\n",
    "#work out how good the model is on test data\n",
    "y_pred = model.predict(X_test)\n",
    "mse = mean_squared_error(y_test, y_pred)\n",
    "print(\"Mean Squared Error:\", mse)"
   ]
  },
  {
   "cell_type": "markdown",
   "metadata": {},
   "source": [
    "### Plot errors\n",
    "Write code that shows the test data points, and the prediction data points for the test data. Show them as different colours"
   ]
  },
  {
   "cell_type": "code",
   "execution_count": null,
   "metadata": {},
   "outputs": [],
   "source": [
    "plt.scatter(X_test,y_test,label=\"Actual\")\n",
    "plt.scatter(y_pred,y_test,label=\"Predicted\")\n",
    "plt.legend(loc=\"lower right\")\n",
    "plt.show()"
   ]
  },
  {
   "cell_type": "markdown",
   "metadata": {},
   "source": [
    "## Task 2 - multi linear regression\n",
    "We might have more than one data input influencing a variable. We can use the linear regression model for more than one input. Lets say we have light and water as an input, can we use both to predict the growth?"
   ]
  },
  {
   "cell_type": "code",
   "execution_count": 4,
   "metadata": {},
   "outputs": [
    {
     "data": {
      "text/html": [
       "<div>\n",
       "<style scoped>\n",
       "    .dataframe tbody tr th:only-of-type {\n",
       "        vertical-align: middle;\n",
       "    }\n",
       "\n",
       "    .dataframe tbody tr th {\n",
       "        vertical-align: top;\n",
       "    }\n",
       "\n",
       "    .dataframe thead th {\n",
       "        text-align: right;\n",
       "    }\n",
       "</style>\n",
       "<table border=\"1\" class=\"dataframe\">\n",
       "  <thead>\n",
       "    <tr style=\"text-align: right;\">\n",
       "      <th></th>\n",
       "      <th>Water (ml/day)</th>\n",
       "      <th>Sunlight (hours/day)</th>\n",
       "      <th>Plant Growth (cm)</th>\n",
       "    </tr>\n",
       "  </thead>\n",
       "  <tbody>\n",
       "    <tr>\n",
       "      <th>0</th>\n",
       "      <td>50.000000</td>\n",
       "      <td>8.612790</td>\n",
       "      <td>5.624466</td>\n",
       "    </tr>\n",
       "    <tr>\n",
       "      <th>1</th>\n",
       "      <td>59.183673</td>\n",
       "      <td>5.073799</td>\n",
       "      <td>9.551416</td>\n",
       "    </tr>\n",
       "    <tr>\n",
       "      <th>2</th>\n",
       "      <td>68.367347</td>\n",
       "      <td>5.122153</td>\n",
       "      <td>9.916777</td>\n",
       "    </tr>\n",
       "    <tr>\n",
       "      <th>3</th>\n",
       "      <td>77.551020</td>\n",
       "      <td>4.362923</td>\n",
       "      <td>12.466862</td>\n",
       "    </tr>\n",
       "    <tr>\n",
       "      <th>4</th>\n",
       "      <td>86.734694</td>\n",
       "      <td>5.784216</td>\n",
       "      <td>11.674305</td>\n",
       "    </tr>\n",
       "  </tbody>\n",
       "</table>\n",
       "</div>"
      ],
      "text/plain": [
       "   Water (ml/day)  Sunlight (hours/day)  Plant Growth (cm)\n",
       "0       50.000000              8.612790           5.624466\n",
       "1       59.183673              5.073799           9.551416\n",
       "2       68.367347              5.122153           9.916777\n",
       "3       77.551020              4.362923          12.466862\n",
       "4       86.734694              5.784216          11.674305"
      ]
     },
     "execution_count": 4,
     "metadata": {},
     "output_type": "execute_result"
    }
   ],
   "source": [
    "df=pd.read_csv(\"plant_growth_sunlight_data.csv\")\n",
    "df.head()"
   ]
  },
  {
   "cell_type": "markdown",
   "metadata": {},
   "source": [
    "### Train multi-linear model\n",
    "lets now train the model on more than one input"
   ]
  },
  {
   "cell_type": "code",
   "execution_count": null,
   "metadata": {},
   "outputs": [],
   "source": [
    "sunlight = df[...]\n",
    "water = df[...]\n",
    "growth = df[...]\n",
    "\n",
    "X = df[[...,...]] # concatenate the sunlight and water together so your data is in the format [[sunlight,water],[sunlight,water],...,[sunlight,water]]\n",
    "y = growth\n",
    "#now train your regression model again (copy the code from above)\n",
    "\n",
    "..."
   ]
  },
  {
   "cell_type": "markdown",
   "metadata": {},
   "source": [
    "## Task 3 \n",
    "Try out the data you have prepared above on some other regression models\n",
    "- ridge regression\n",
    "- random forest regression\n",
    "- Gamma Regression"
   ]
  },
  {
   "cell_type": "code",
   "execution_count": null,
   "metadata": {},
   "outputs": [],
   "source": [
    "X_train, X_test, y_train, y_test = train_test_split(X, y, test_size=0.2, random_state=42) #this splits\n",
    "\n",
    "model = GammaRegressor(alpha=0.1, max_iter=10000)  # Alpha is the regularization parameter\n",
    "model.fit(X_train, y_train)\n",
    "\n",
    "... #make predictions on the test data\n",
    "... #print the mean square error\n",
    "\n",
    "model = RandomForestRegressor(n_estimators=100, random_state=42)\n",
    "model.fit(X_train, y_train)\n",
    "\n",
    "... #make predictions on the test data\n",
    "... #print the mean square error\n",
    "\n",
    "model = Ridge(alpha=1.0)\n",
    "model.fit(X_train, y_train)\n",
    "\n",
    "... #make predictions on the test data\n",
    "... #print the mean square error"
   ]
  },
  {
   "cell_type": "markdown",
   "metadata": {},
   "source": [
    "### Do you notice anything?\n",
    "Is there a model that works the best? Why is this the case? What happens when we play with parameters, are some models slower or use more memory? Have a google and try understand these results. \n",
    "\n",
    "## Task 3\n",
    "Now you have regression models working on this dataset we can work on your gathered dataset. Complete the following tasks in the code cell below:\n",
    "- Load in your dataset\n",
    "- Visualise the variables against one another. If more than 2 values to visualise think of a better way to show it than scatter graphs\n",
    "- Train different regression models on your dataset, how does it perform on unseen data? \n",
    "- Think about conclusions from this, even if the model works does this mean your model is robust"
   ]
  },
  {
   "cell_type": "code",
   "execution_count": null,
   "metadata": {},
   "outputs": [],
   "source": []
  }
 ],
 "metadata": {
  "kernelspec": {
   "display_name": "Python 3",
   "language": "python",
   "name": "python3"
  },
  "language_info": {
   "codemirror_mode": {
    "name": "ipython",
    "version": 3
   },
   "file_extension": ".py",
   "mimetype": "text/x-python",
   "name": "python",
   "nbconvert_exporter": "python",
   "pygments_lexer": "ipython3",
   "version": "3.10.7"
  }
 },
 "nbformat": 4,
 "nbformat_minor": 2
}
