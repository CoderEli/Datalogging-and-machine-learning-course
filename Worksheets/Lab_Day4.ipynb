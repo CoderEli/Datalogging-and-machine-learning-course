{
 "cells": [
  {
   "cell_type": "markdown",
   "metadata": {},
   "source": [
    "# Lab Data Visualisation"
   ]
  },
  {
   "cell_type": "markdown",
   "metadata": {},
   "source": [
    "In this lab, you will explore data visualization techniques to analyze a specific research question using a dataset of your choice.\n",
    "1. Find a Dataset on Kaggle\n",
    "\n",
    "Examples:\n",
    "https://www.kaggle.com/datasets/rishidamarla/global-rise-in-temperatures-in-each-country\n",
    "\n",
    "2. Define a Research Question\n",
    "\n",
    "    - Once you have chosen a dataset, formulate a clear research question."
   ]
  },
  {
   "cell_type": "markdown",
   "metadata": {},
   "source": [
    "3. Load and Explore the Data\n",
    "\n",
    "Use Pandas to load and inspect the dataset."
   ]
  },
  {
   "cell_type": "code",
   "execution_count": null,
   "metadata": {},
   "outputs": [],
   "source": [
    "import pandas as pd\n",
    "import numpy as np\n",
    "import matplotlib.pyplot as plt\n",
    "import seaborn as sns"
   ]
  },
  {
   "cell_type": "code",
   "execution_count": null,
   "metadata": {},
   "outputs": [],
   "source": [
    "df=pd.read_csv(\"...csv\")\n",
    "df = pd.read_json(\".....json\")\n",
    "# change to your dataset path"
   ]
  },
  {
   "cell_type": "code",
   "execution_count": null,
   "metadata": {},
   "outputs": [],
   "source": [
    "# use some of the following to inspect your loaded data - check Pandas documentation(DataFrames) for more\n",
    "df.head()\n",
    "\n",
    "df.info\n",
    "\n",
    "df.describe()\n",
    "\n",
    "df.dtypes\n",
    "\n",
    "df.isnull()\n",
    "df.isna()\n",
    "df.duplicated()"
   ]
  },
  {
   "cell_type": "markdown",
   "metadata": {},
   "source": [
    "4. Based on your inspection, you now need to identify the relevant parts of the dataset that address your research question. \n",
    "Select the necessary data, and visualize it using an appropriate plot. "
   ]
  },
  {
   "cell_type": "code",
   "execution_count": null,
   "metadata": {},
   "outputs": [],
   "source": [
    "# check matplotlib/seabor documentation for finding code for your chosen plot\n",
    "plt.figure(figsize=(9,4)) #e.g. matplotlib\n",
    "# Add your visuilization code here\n",
    "plt.show()"
   ]
  },
  {
   "cell_type": "markdown",
   "metadata": {},
   "source": [
    "5. Interpret your Results - what does the plot show? Can you answer your research question?"
   ]
  }
 ],
 "metadata": {
  "language_info": {
   "name": "python"
  }
 },
 "nbformat": 4,
 "nbformat_minor": 2
}
