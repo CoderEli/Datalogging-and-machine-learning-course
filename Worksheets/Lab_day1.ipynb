{
  "cells": [
    {
      "cell_type": "markdown",
      "metadata": {
        "id": "dQBPx7i5eIR1"
      },
      "source": [
        "## Day One - Python Coding Intro"
      ]
    },
    {
      "cell_type": "markdown",
      "metadata": {
        "id": "65wJZZ8FcZWO"
      },
      "source": [
        "Welcome to Day 1 of the Data Collection and Machine Learning Course at LUANAR! To ensure we have covered all basic Python coding skills, this lab will serve as a Python introduction/refresher. Since you all have different backgrounds and skill levels, this lab covers several skill levels—feel free to skip ahead or ask a TA for advice on where to start!\n",
        "\n",
        "Have fun with the lab!"
      ]
    },
    {
      "cell_type": "markdown",
      "metadata": {
        "id": "egrIsj0pNkSH"
      },
      "source": [
        "# Basics - in case you are not as confident in basic python yet"
      ]
    },
    {
      "cell_type": "markdown",
      "metadata": {
        "id": "Hfne3CMyL2c2"
      },
      "source": [
        "In case you have not had a chance to code in Python/look at the preperation material, feel free to work thourgh these notebooks covering all basic Python you need to know for this course:\n",
        "https://github.com/SussexPAL/PythonCrashCourse/blob/main/Worksheets/day_1_algorithmic_thinking.ipynb"
      ]
    },
    {
      "cell_type": "markdown",
      "metadata": {
        "id": "HZNJBlIXMUmP"
      },
      "source": [
        "# 1. Karel game\n",
        "\n"
      ]
    },
    {
      "cell_type": "markdown",
      "metadata": {
        "id": "TLraYqjraetg"
      },
      "source": [
        "In the following exercise, we will work on getting a more intuitive understanding of Python. For this, we are using Karel the Robot, by Stanford (https://compedu.stanford.edu/karel-reader/docs/python/en/chapter1.html), which is a simple programming environment designed to teach fundamental coding concepts.\n",
        "\n",
        "**Download the exercises here**: https://web.stanford.edu/class/archive/cs/cs106a/cs106a.1226/assignments/1-Karel/Assignment1.zip\n",
        "\n",
        "(After you extract Assignment1, you can open the folder in VSCode :) )\n",
        "\n",
        "Karel operates in a grid-based world made up of rows (east-west) and columns (north-south). Karel can only stand at the intersection of a row and a column, called a corner, and must always face one of four directions: north, south, east, or west. The world may contain walls, which act as barriers Karel cannot pass through, and beepers, small objects that Karel can pick up or place.\n",
        "\n",
        "Your task is to solve exercises that guide Karel through simple and increasingly complex challenges using the following basic commands:\n",
        "\n",
        "    - move(): Moves Karel forward one block unless blocked by a wall.\n",
        "    - turn_left(): Rotates Karel 90 degrees counterclockwise.\n",
        "    - pick_beeper(): Picks up a beeper from the current corner (if present).\n",
        "    - put_beeper(): Places a beeper on the current corner (if Karel has one)."
      ]
    },
    {
      "cell_type": "markdown",
      "metadata": {
        "id": "leN0DOBCdCs5"
      },
      "source": [
        "You can get creative and make as many functions as you want! The code will run exclusively what is in your main() function, you can find examples (and we highly recommend you to have a look) here: https://compedu.stanford.edu/karel-reader/docs/python/en/chapter2.html"
      ]
    },
    {
      "cell_type": "markdown",
      "metadata": {
        "id": "0Ox0jRd9dDnv"
      },
      "source": [
        "# Problem 1 (CollectNewspaperKarel.py)"
      ]
    },
    {
      "cell_type": "markdown",
      "metadata": {
        "id": "XvRtyKwedaiw"
      },
      "source": [
        "Your first task is to solve a simple story-problem in Karel's world. Suppose that Karel has settled into its house, which is the square area in the center of Figure 1.\n",
        "\n",
        "![**Figure 1:** Karel's starting state for CollectNewspaperKarel](../Assets/karel1.png)\n",
        "\n",
        "**Figure 1:** Karel's starting state for CollectNewspaperKarel\n",
        "\n",
        "Karel starts off in the northwest corner of its house as shown in the diagram. The problem you need to solve is to get Karel to collect the newspaper. The newspaper, like all objects in Karel's world, is represented by a beeper. You must get Karel to pick up the newspaper located outside the doorway and then to return to its initial position.\n",
        "\n",
        "This exercise is simple and is meant to help you get you started programming with Karel. You can assume that every part of the world looks just as it does in the diagram: the house is exactly this size, the door is always in the position shown, and the beeper is just outside the door. Thus, all you have to do is write the sequence of commands necessary to have Karel:\n",
        "\n",
        "1. Move to the newspaper,\n",
        "\n",
        "2. Pick it up, and\n",
        "\n",
        "3. Return to its starting point.\n",
        "\n",
        "Although the program does not have many lines of code, it is still worth getting some practice with decomposition. In your solution, include a function for each of the three steps shown in the outline above.\n"
      ]
    },
    {
      "cell_type": "markdown",
      "metadata": {
        "id": "KHCFaYo4d6nh"
      },
      "source": [
        "# Problem 2 (StoneMasonKarel.py)"
      ]
    },
    {
      "cell_type": "markdown",
      "metadata": {
        "id": "YJFeKZhNeANB"
      },
      "source": [
        "Your next task is to repair the damage done in an earthquake. In particular, Karel should repair a set of arches where some of the stones (represented by beepers, of course) are missing from the columns supporting the arches, as illustrated in Figure 2 (below).\n",
        "\n",
        "![**Figure 2:** An initial example world with broken arches that **StoneMasonKarel** must repair](../Assets/karel2.png)\n",
        "\n",
        "**Figure 2:** An initial example world with broken arches that **StoneMasonKarel** must repair\n",
        "\n",
        "\n",
        "\n",
        "When Karel is done, the missing stones in the columns should be replaced by beepers, so that the final picture resulting from the initial world shown in Figure 2 would look like the illustration in Figure 3 below.\n",
        "\n",
        "![**Figure 3:** Karel should repair the columns to a structurally sound state after completion.](../Assets/karel3.png)\n",
        "\n",
        "**Figure 3:** Karel should repair the columns to a structurally sound state after completion.\n"
      ]
    },
    {
      "cell_type": "markdown",
      "metadata": {
        "id": "zeCl2ftsekXa"
      },
      "source": [
        "# Problem 3 (CheckerboardKarel.py)"
      ]
    },
    {
      "cell_type": "markdown",
      "metadata": {
        "id": "m3TtDyiney4N"
      },
      "source": [
        "Your third task is to get Karel to create a checkerboard pattern of beepers inside an empty rectangular world, as illustrated in Figure 4. (Karel's final location and the final direction it is facing at the end of the run do not matter.)\n",
        "\n",
        "\n",
        "![**Figure 4:** Karel should repair the columns to a structurally sound state after completion.](../Assets/karel4.png)\n",
        "\n",
        "**Figure 4:** Karel should repair the columns to a structurally sound state after completion.\n",
        "\n",
        "![**Figure 5**: The beginning and end states for **CheckerboardKarel**.](../Assets/karel5.png)\n",
        "\n",
        "**Figure 5**: The beginning and end states for **CheckerboardKarel**.\n",
        "\n",
        "This problem has a nice decomposition structure along with some interesting algorithmic issues. As you think about how you will solve the problem, you should make sure that your solution works with checkerboards that are different in size from the standard 8x8 checkerboard shown in the example above."
      ]
    },
    {
      "cell_type": "markdown",
      "metadata": {
        "id": "nMXJ2OT2fHTN"
      },
      "source": [
        "# Problem 4 (MidpointKarel.py)"
      ]
    },
    {
      "cell_type": "markdown",
      "metadata": {
        "id": "5ZETW7gEfKnA"
      },
      "source": [
        "As an exercise in solving algorithmic problems, program Karel to place a single beeper at the center of 1st Street. For example, say Karel starts in the 5x5 world pictured in Figure 6.\n",
        "\n",
        "![**Figure 6:** The beginning state for **MidpointKarel**](../Assets/karel6.png)\n",
        "\n",
        "**Figure 6:** The beginning state for **MidpointKarel**\n",
        "\n",
        "\n",
        "Karel should end with Karel standing on a beeper in the following position (Figure 7):\n",
        "\n",
        "![**Figure 7:** The end state for **MidpointKarel**](../Assets/karel7.png)\n",
        "\n",
        "**Figure 7:** The end state for **MidpointKarel**\n",
        "\n",
        "\n",
        "Note that the final configuration of the world should have only a single beeper at the midpoint of 1st Street. Along the way, Karel is allowed to place additional beepers wherever it wants to, but must pick them all up again before it finishes. Similarly, if Karel paints/colors any of the corners in the world, they must all be uncolored before Karel finishes.\n",
        "\n",
        "In solving this problem, you may count on the following facts about the world:\n",
        "\n",
        "Karel starts at 1st Avenue and 1st Street, facing east, with an infinite number of beepers in its bag.\n",
        "\n",
        "The initial state of the world includes no interior walls or beepers.\n",
        "\n",
        "The world need not be square, but you may assume that it is at least as tall as it is wide.\n",
        "\n",
        "Your program, moreover, can assume the following simplifications:\n",
        "\n",
        "If the width of the world is odd, Karel must put the beeper in the center square. If the width is even, Karel may drop the beeper on either of the two center squares.\n",
        "\n",
        "It does not matter which direction Karel is facing at the end of the run.\n",
        "\n",
        "There are many different algorithms you can use to solve this problem so feel free to be creative!\n"
      ]
    },
    {
      "cell_type": "markdown",
      "metadata": {},
      "source": [
        "# More advanced Challenges"
      ]
    },
    {
      "cell_type": "markdown",
      "metadata": {},
      "source": [
        "## Exercise Tic-Tac-Toe\n",
        "In this Python challenge, write a function that’ll accept two numbers. These numbers will represent a position on a tic-tac-toe board. They can be 0 through 8, where 0 is the top-left spot, and 8 is the bottom-right spot.\n",
        "\n",
        "These parameters are two marks on the tic-tac-toe board. The function should return the number of the spot that can block these two spots from winning the game.\n"
      ]
    },
    {
      "cell_type": "code",
      "execution_count": null,
      "metadata": {
        "vscode": {
          "languageId": "plaintext"
        }
      },
      "outputs": [],
      "source": [
        "# put in your code here\n",
        "def find_blocking_move(pos1, pos2):\n",
        "    #add your code in here\n",
        "\n",
        "# Example:\n",
        "print(find_blocking_move(0, 1)) # Output should be 2"
      ]
    },
    {
      "cell_type": "markdown",
      "metadata": {},
      "source": [
        "TicTacToe 2.0 - Use Classes to make ...\n",
        "\n",
        "Instead of just a function, try ....\n",
        "Here, we ..."
      ]
    },
    {
      "cell_type": "markdown",
      "metadata": {},
      "source": [
        "## Exercise - FizzBuzz\n",
        "The game of FizzBuzz involves counting, but replacing numbers divisible by 3 with \"Fizz\", those divisible by 5 with \"Buzz\" and those divisible by both with \"FizzBuzz\". Write a functon to play FizzBuzz, counting up to 50. We need to be careful about how we print otherwise it will look terrible in the cell, so collect all the outputs and print a list at the end."
      ]
    },
    {
      "cell_type": "code",
      "execution_count": null,
      "metadata": {
        "vscode": {
          "languageId": "plaintext"
        }
      },
      "outputs": [],
      "source": [
        "def fizzbuzz(num):\n",
        "    print(f\"We are playing FizzBuzz up to {num}\")\n",
        "    # Your code here\n",
        "    return a_list"
      ]
    },
    {
      "cell_type": "code",
      "execution_count": null,
      "metadata": {
        "vscode": {
          "languageId": "plaintext"
        }
      },
      "outputs": [],
      "source": [
        "num = 50\n",
        "print(fizzbuzz(num))"
      ]
    },
    {
      "cell_type": "markdown",
      "metadata": {},
      "source": [
        "## Exercise FizzBuzz2\n",
        "\n",
        "\n",
        "Add up all the values in the game FizzBuzz. Note, you need to take into consideration the strings in the list."
      ]
    },
    {
      "cell_type": "code",
      "execution_count": null,
      "metadata": {
        "vscode": {
          "languageId": "plaintext"
        }
      },
      "outputs": [],
      "source": [
        "def add_fizzbuzz(num):\n",
        "    # Your code here\n",
        "    return score"
      ]
    },
    {
      "cell_type": "code",
      "execution_count": null,
      "metadata": {
        "vscode": {
          "languageId": "plaintext"
        }
      },
      "outputs": [],
      "source": [
        "num = 50\n",
        "print(add_fizzbuzz(num))"
      ]
    },
    {
      "cell_type": "markdown",
      "metadata": {},
      "source": [
        "## Exercise Luhn Algorithm\n",
        "The _Luhn algorithm_ is a simple checksum formula used to validate credit card and bank account numbers. It is designed to prevent common errors in transcribing the number, and detects all single-digit errors and almost all transpositions of two adjacent digits. The algorithm may be written as the following steps:\n",
        "1. Reverse the number.\n",
        "2. Treating the number as a list of digits, take the even-indexed digits (where the indexes start at *1*) and double their values. If a doubled digit results in a number greater than 10, add the two digits (e.g., the digit 6 becomes 12 and hence is replaced by 1 + 2 = 3).\n",
        "3. Sum this modified list.\n",
        "4. If the sum of the list is divisible by 10 the credit card number is valid.\n",
        "\n",
        "Write a function to check whether a given credit card number is valid (replacing the `...` with your code). You can assume that you will receive a 16 digit number as a string."
      ]
    },
    {
      "cell_type": "code",
      "execution_count": null,
      "metadata": {
        "vscode": {
          "languageId": "plaintext"
        }
      },
      "outputs": [],
      "source": [
        "def luhn_algorithm(card_num):\n",
        "    ...\n",
        "    return check_sum % 10 == 0"
      ]
    },
    {
      "cell_type": "code",
      "execution_count": null,
      "metadata": {
        "vscode": {
          "languageId": "plaintext"
        }
      },
      "outputs": [],
      "source": [
        "card_num = \"4799273987136272\"\n",
        "print(luhn_algorithm(card_num))\n",
        "card_num = \"4799273987136273\"\n",
        "print(luhn_algorithm(card_num))"
      ]
    }
  ],
  "metadata": {
    "colab": {
      "provenance": []
    },
    "kernelspec": {
      "display_name": "Python 3",
      "name": "python3"
    },
    "language_info": {
      "name": "python"
    }
  },
  "nbformat": 4,
  "nbformat_minor": 0
}
